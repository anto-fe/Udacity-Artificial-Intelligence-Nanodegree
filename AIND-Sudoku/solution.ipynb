{
 "cells": [
  {
   "cell_type": "code",
   "execution_count": 1,
   "metadata": {
    "collapsed": true,
    "deletable": true,
    "editable": true
   },
   "outputs": [],
   "source": [
    "assignments = []"
   ]
  },
  {
   "cell_type": "code",
   "execution_count": 2,
   "metadata": {
    "collapsed": true,
    "deletable": true,
    "editable": true
   },
   "outputs": [],
   "source": [
    "def assign_value(values, box, value):\n",
    "    \"\"\"\n",
    "    Please use this function to update your values dictionary!\n",
    "    Assigns a value to a given box. If it updates the board record it.\n",
    "    \"\"\"\n",
    "    values[box] = value\n",
    "    if len(value) == 1:\n",
    "        assignments.append(values.copy())\n",
    "    return values\n",
    "\n",
    "    # Don't waste memory appending actions that don't actually change any values\n",
    "    if values[box] == value:\n",
    "        return values\n",
    "\n",
    "    values[box] = value\n",
    "    if len(value) == 1:\n",
    "        assignments.append(values.copy())\n",
    "    return values"
   ]
  },
  {
   "cell_type": "code",
   "execution_count": 3,
   "metadata": {
    "collapsed": true,
    "deletable": true,
    "editable": true
   },
   "outputs": [],
   "source": [
    "def cross(A, B):\n",
    "    \"Cross product of elements in A and elements in B.\"\n",
    "    return [a + b for a in A for b in B]"
   ]
  },
  {
   "cell_type": "code",
   "execution_count": 4,
   "metadata": {
    "collapsed": true,
    "deletable": true,
    "editable": true
   },
   "outputs": [],
   "source": [
    "digits = '123456789'\n",
    "rows = 'ABCDEFGHI'\n",
    "cols = '123456789'"
   ]
  },
  {
   "cell_type": "code",
   "execution_count": 5,
   "metadata": {
    "collapsed": true,
    "deletable": true,
    "editable": true
   },
   "outputs": [],
   "source": [
    "boxes = cross(rows, cols)\n",
    "row_units = [cross(r, cols) for r in rows]\n",
    "column_units = [cross(rows, c) for c in cols]\n",
    "square_units = [cross(rs, cs) for rs in ('ABC', 'DEF', 'GHI') for cs in ('123', '456', '789')]\n",
    "diagonal_units = [[row+col for (row,col) in zip(rows, cols[::step])] for step in [-1,1]]"
   ]
  },
  {
   "cell_type": "code",
   "execution_count": 6,
   "metadata": {
    "collapsed": false,
    "deletable": true,
    "editable": true
   },
   "outputs": [],
   "source": [
    "diagonal = 1 # Set to 0 for non-diagonal sudoku\n",
    "if diagonal == 1:\n",
    "    unitlist = row_units + column_units + square_units + diagonal_units\n",
    "else:\n",
    "    unitlist = row_units + column_units + square_units"
   ]
  },
  {
   "cell_type": "code",
   "execution_count": 7,
   "metadata": {
    "collapsed": true,
    "deletable": true,
    "editable": true
   },
   "outputs": [],
   "source": [
    "units = dict((s, [u for u in unitlist if s in u]) for s in boxes)\n",
    "peers = dict((s, set(sum(units[s],[]))-set([s])) for s in boxes)"
   ]
  },
  {
   "cell_type": "code",
   "execution_count": 31,
   "metadata": {
    "collapsed": false,
    "deletable": true,
    "editable": true
   },
   "outputs": [],
   "source": [
    "def naked_twins(values):\n",
    "    \"\"\"Eliminate values using the naked twins strategy.\n",
    "    Args:\n",
    "        values(dict): a dictionary of the form {'box_name': '123456789', ...}\n",
    "\n",
    "    Returns:\n",
    "        the values dictionary with the naked twins eliminated from peers.\n",
    "    \"\"\"\n",
    "\n",
    "    # Find all instances of naked twins\n",
    "    # Eliminate the naked twins as possibilities for their peers\n",
    "    for unit in unitlist:\n",
    "        unsolved = [box for box in unit if len(values[box]) > 1]\n",
    "        two = [box for box in unsolved if len(values[box]) == 2]\n",
    "        bi = ''; l=[values[elem] for elem in two]\n",
    "        s = set([x for x in l if l.count(x) > 1])\n",
    "        if len(s)>0:\n",
    "            bi = s.pop()\n",
    "        not_twins = [box for box in unsolved if values[box] != bi]\n",
    "        for box in not_twins:\n",
    "            for char in bi: # remove the characters of the twins for each box that is not one of the twins\n",
    "                val = values[box].replace(char, '')\n",
    "                values = assign_value(values, box, val)  \n",
    "    return values"
   ]
  },
  {
   "cell_type": "code",
   "execution_count": 32,
   "metadata": {
    "collapsed": false
   },
   "outputs": [
    {
     "data": {
      "text/plain": [
       "{'A1': '1',\n",
       " 'A2': '237',\n",
       " 'A3': '4',\n",
       " 'A4': '2357',\n",
       " 'A5': '9',\n",
       " 'A6': '257',\n",
       " 'A7': '27',\n",
       " 'A8': '6',\n",
       " 'A9': '8',\n",
       " 'B1': '9',\n",
       " 'B2': '5',\n",
       " 'B3': '6',\n",
       " 'B4': '27',\n",
       " 'B5': '1',\n",
       " 'B6': '8',\n",
       " 'B7': '27',\n",
       " 'B8': '3',\n",
       " 'B9': '4',\n",
       " 'C1': '23',\n",
       " 'C2': '237',\n",
       " 'C3': '8',\n",
       " 'C4': '4',\n",
       " 'C5': '37',\n",
       " 'C6': '6',\n",
       " 'C7': '9',\n",
       " 'C8': '5',\n",
       " 'C9': '1',\n",
       " 'D1': '5',\n",
       " 'D2': '1',\n",
       " 'D3': '79',\n",
       " 'D4': '237',\n",
       " 'D5': '347',\n",
       " 'D6': '279',\n",
       " 'D7': '34',\n",
       " 'D8': '8',\n",
       " 'D9': '6',\n",
       " 'E1': '8',\n",
       " 'E2': '3',\n",
       " 'E3': '79',\n",
       " 'E4': '6',\n",
       " 'E5': '347',\n",
       " 'E6': '579',\n",
       " 'E7': '345',\n",
       " 'E8': '1',\n",
       " 'E9': '2',\n",
       " 'F1': '6',\n",
       " 'F2': '4',\n",
       " 'F3': '23',\n",
       " 'F4': '1235',\n",
       " 'F5': '8',\n",
       " 'F6': '125',\n",
       " 'F7': '35',\n",
       " 'F8': '9',\n",
       " 'F9': '7',\n",
       " 'G1': '7',\n",
       " 'G2': '8',\n",
       " 'G3': '1',\n",
       " 'G4': '9',\n",
       " 'G5': '2',\n",
       " 'G6': '3',\n",
       " 'G7': '6',\n",
       " 'G8': '4',\n",
       " 'G9': '5',\n",
       " 'H1': '4',\n",
       " 'H2': '9',\n",
       " 'H3': '5',\n",
       " 'H4': '17',\n",
       " 'H5': '6',\n",
       " 'H6': '17',\n",
       " 'H7': '8',\n",
       " 'H8': '2',\n",
       " 'H9': '3',\n",
       " 'I1': '23',\n",
       " 'I2': '6',\n",
       " 'I3': '23',\n",
       " 'I4': '8',\n",
       " 'I5': '5',\n",
       " 'I6': '4',\n",
       " 'I7': '1',\n",
       " 'I8': '7',\n",
       " 'I9': '9'}"
      ]
     },
     "execution_count": 32,
     "metadata": {},
     "output_type": "execute_result"
    }
   ],
   "source": [
    "# Test\n",
    "# values =  {'I6': '4', 'H9': '3', 'I2': '6', 'E8': '1', 'H3': '5', 'H7': '8', 'I7': '1', 'I4': '8',\n",
    "#                             'H5': '6', 'F9': '7', 'G7': '6', 'G6': '3', 'G5': '2', 'E1': '8', 'G3': '1', 'G2': '8',\n",
    "#                             'G1': '7', 'I1': '23', 'C8': '5', 'I3': '23', 'E5': '347', 'I5': '5', 'C9': '1', 'G9': '5',\n",
    "#                             'G8': '4', 'A1': '1', 'A3': '4', 'A2': '237', 'A5': '9', 'A4': '2357', 'A7': '27',\n",
    "#                             'A6': '257', 'C3': '8', 'C2': '237', 'C1': '23', 'E6': '579', 'C7': '9', 'C6': '6',\n",
    "#                             'C5': '37', 'C4': '4', 'I9': '9', 'D8': '8', 'I8': '7', 'E4': '6', 'D9': '6', 'H8': '2',\n",
    "#                             'F6': '125', 'A9': '8', 'G4': '9', 'A8': '6', 'E7': '345', 'E3': '379', 'F1': '6',\n",
    "#                             'F2': '4', 'F3': '23', 'F4': '1235', 'F5': '8', 'E2': '37', 'F7': '35', 'F8': '9',\n",
    "#                             'D2': '1', 'H1': '4', 'H6': '17', 'H2': '9', 'H4': '17', 'D3': '2379', 'B4': '27',\n",
    "#                             'B5': '1', 'B6': '8', 'B7': '27', 'E9': '2', 'B1': '9', 'B2': '5', 'B3': '6', 'D6': '279',\n",
    "#                             'D7': '34', 'D4': '237', 'D5': '347', 'B8': '3', 'B9': '4', 'D1': '5'}\n",
    "# naked_twins(values)"
   ]
  },
  {
   "cell_type": "code",
   "execution_count": 20,
   "metadata": {
    "collapsed": true,
    "deletable": true,
    "editable": true
   },
   "outputs": [],
   "source": [
    "def grid_values(grid):\n",
    "    \"\"\"\n",
    "    Convert grid into a dict of {square: char} with '123456789' for empties.\n",
    "    Args:\n",
    "        grid(string) - A grid in string form.\n",
    "    Returns:\n",
    "        A grid in dictionary form\n",
    "            Keys: The boxes, e.g., 'A1'\n",
    "            Values: The value in each box, e.g., '8'. If the box has no value, then the value will be '123456789'.\n",
    "    \"\"\"\n",
    "    chars = []\n",
    "    digits = '123456789'\n",
    "    for c in grid:\n",
    "        if c in digits:\n",
    "            chars.append(c)\n",
    "        if c == '.':\n",
    "            chars.append(digits)\n",
    "    assert len(chars) == 81\n",
    "    return dict(zip(boxes, chars))"
   ]
  },
  {
   "cell_type": "code",
   "execution_count": 11,
   "metadata": {
    "collapsed": true,
    "deletable": true,
    "editable": true
   },
   "outputs": [],
   "source": [
    "def display(values):\n",
    "    \"\"\"\n",
    "    Display the values as a 2-D grid.\n",
    "    Input: The sudoku in dictionary form\n",
    "    Output: None\n",
    "    \"\"\"\n",
    "    width = 1+max(len(values[s]) for s in boxes)\n",
    "    line = '+'.join(['-'*(width*3)]*3)\n",
    "    for r in rows:\n",
    "        print(''.join(values[r+c].center(width)+('|' if c in '36' else '')\n",
    "                      for c in cols))\n",
    "        if r in 'CF': print(line)\n",
    "    return"
   ]
  },
  {
   "cell_type": "code",
   "execution_count": 12,
   "metadata": {
    "collapsed": false,
    "deletable": true,
    "editable": true
   },
   "outputs": [],
   "source": [
    "# Test\n",
    "# display(grid_values('..3.2.6..9..3.5..1..18.64....81.29..7.......8..67.82....26.95..8..2.3..9..5.1.3..'))"
   ]
  },
  {
   "cell_type": "code",
   "execution_count": 13,
   "metadata": {
    "collapsed": true,
    "deletable": true,
    "editable": true
   },
   "outputs": [],
   "source": [
    "def eliminate(values):\n",
    "    \"\"\"Eliminate values from peers of each box with a single value.\n",
    "\n",
    "    Go through all the boxes, and whenever there is a box with a single value,\n",
    "    eliminate this value from the set of values of all its peers.\n",
    "\n",
    "    Args:\n",
    "        values: Sudoku in dictionary form.\n",
    "    Returns:\n",
    "        Resulting Sudoku in dictionary form after eliminating values.\n",
    "    \"\"\"\n",
    "    solved_values = [box for box in values.keys() if len(values[box]) == 1]\n",
    "    for box in solved_values:\n",
    "        digit = values[box]\n",
    "        for peer in peers[box]:\n",
    "            values[peer] = values[peer].replace(digit,'')\n",
    "    return values"
   ]
  },
  {
   "cell_type": "code",
   "execution_count": 14,
   "metadata": {
    "collapsed": false,
    "deletable": true,
    "editable": true
   },
   "outputs": [],
   "source": [
    "def only_choice(values):\n",
    "    \"\"\"Finalize all values that are the only choice for a unit.\n",
    "\n",
    "    Go through all the units, and whenever there is a unit with a value\n",
    "    that only fits in one box, assign the value to this box.\n",
    "\n",
    "    Input: Sudoku in dictionary form.\n",
    "    Output: Resulting Sudoku in dictionary form after filling in only choices.\n",
    "    \"\"\"\n",
    "    for unit in unitlist:\n",
    "        for digit in '123456789':\n",
    "            dplaces = [box for box in unit if digit in values[box]]\n",
    "            if len(dplaces) == 1:\n",
    "                values[dplaces[0]] = digit\n",
    "    return values  "
   ]
  },
  {
   "cell_type": "code",
   "execution_count": 15,
   "metadata": {
    "collapsed": false,
    "deletable": true,
    "editable": true
   },
   "outputs": [],
   "source": [
    "def reduce_puzzle(values):\n",
    "    \"\"\"\n",
    "    Iterate eliminate() and only_choice(). If at some point, there is a box with no available values, return False.\n",
    "    If the sudoku is solved, return the sudoku.\n",
    "    If after an iteration of both functions, the sudoku remains the same, return the sudoku.\n",
    "    Input: A sudoku in dictionary form.\n",
    "    Output: The resulting sudoku in dictionary form.\n",
    "    \"\"\"\n",
    "    solved_values = [box for box in values.keys() if len(values[box]) == 1]\n",
    "    stalled = False\n",
    "    while not stalled:\n",
    "        solved_values_before = len([box for box in values.keys() if len(values[box]) == 1])\n",
    "        values = eliminate(values)\n",
    "        values = only_choice(values)\n",
    "        values = naked_twins(values)\n",
    "        solved_values_after = len([box for box in values.keys() if len(values[box]) == 1])\n",
    "        stalled = solved_values_before == solved_values_after\n",
    "        if len([box for box in values.keys() if len(values[box]) == 0]):\n",
    "            return False\n",
    "    return values"
   ]
  },
  {
   "cell_type": "code",
   "execution_count": 16,
   "metadata": {
    "collapsed": false,
    "deletable": true,
    "editable": true
   },
   "outputs": [],
   "source": [
    "def search(values):\n",
    "    \"Using depth-first search and propagation, try all possible values.\"\n",
    "    # First, reduce the puzzle using the previous function\n",
    "    values = reduce_puzzle(values)\n",
    "    if values is False:\n",
    "        return False ## Failed earlier\n",
    "    if all(len(values[s]) == 1 for s in boxes): \n",
    "        print([values[s] for s in boxes])\n",
    "        return values ## Solved!\n",
    "    # Choose one of the unfilled squares with the fewest possibilities\n",
    "    n,s = min((len(values[s]), s) for s in boxes if len(values[s]) > 1)\n",
    "    # Now use recurrence to solve each one of the resulting sudokus, and \n",
    "    for value in values[s]:\n",
    "        new_sudoku = values.copy()\n",
    "        new_sudoku[s] = value\n",
    "        attempt = search(new_sudoku)\n",
    "        if attempt:\n",
    "            return attempt"
   ]
  },
  {
   "cell_type": "code",
   "execution_count": 17,
   "metadata": {
    "collapsed": true,
    "deletable": true,
    "editable": true
   },
   "outputs": [],
   "source": [
    "def solve(grid):\n",
    "    \"\"\"\n",
    "    Find the solution to a Sudoku grid.\n",
    "    Args:\n",
    "        grid(string): a string representing a sudoku grid.\n",
    "            Example: '2.............62....1....7...6..8...3...9...7...6..4...4....8....52.............3'\n",
    "    Returns:\n",
    "        The dictionary representation of the final sudoku grid. False if no solution exists.\n",
    "    \"\"\"\n",
    "    return search(grid_values(grid))"
   ]
  },
  {
   "cell_type": "code",
   "execution_count": 18,
   "metadata": {
    "collapsed": false,
    "deletable": true,
    "editable": true
   },
   "outputs": [],
   "source": [
    "# Test\n",
    "# solve('2.............62....1....7...6..8...3...9...7...6..4...4....8....52.............3')"
   ]
  }
 ],
 "metadata": {
  "kernelspec": {
   "display_name": "Python 3",
   "language": "python",
   "name": "python3"
  },
  "language_info": {
   "codemirror_mode": {
    "name": "ipython",
    "version": 3
   },
   "file_extension": ".py",
   "mimetype": "text/x-python",
   "name": "python",
   "nbconvert_exporter": "python",
   "pygments_lexer": "ipython3",
   "version": "3.6.0"
  }
 },
 "nbformat": 4,
 "nbformat_minor": 2
}
